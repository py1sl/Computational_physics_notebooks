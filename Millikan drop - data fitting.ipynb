{
 "cells": [
  {
   "cell_type": "markdown",
   "metadata": {},
   "source": [
    "## Millikan drop experiment - data fitting example\n",
    "\n",
    "Using the data from Millikan's famous liquid drop experiment fit the data and estimate the fundamental charge\n",
    "\n",
    "least squares fitting\n",
    "\n",
    "Based on a java example in 'Introduction to Computational physics'  by Tao Pang\n",
    "\n",
    "Learning:\n",
    "* basic python - plotting, numpy\n",
    "* data fitting\n"
   ]
  },
  {
   "cell_type": "code",
   "execution_count": 1,
   "metadata": {},
   "outputs": [],
   "source": [
    "import numpy as np\n",
    "import matplotlib.pyplot as plt"
   ]
  },
  {
   "cell_type": "code",
   "execution_count": 2,
   "metadata": {},
   "outputs": [
    {
     "data": {
      "text/plain": [
       "[<matplotlib.lines.Line2D at 0x25ba19f8248>]"
      ]
     },
     "execution_count": 2,
     "metadata": {},
     "output_type": "execute_result"
    },
    {
     "data": {
      "image/png": "[encoded data removed]",
      "text/plain": [
       "<Figure size 432x288 with 1 Axes>"
      ]
     },
     "metadata": {
      "needs_background": "light"
     },
     "output_type": "display_data"
    }
   ],
   "source": [
    "\n",
    "\n",
    "# millikans data\n",
    "x = [4, 5, 6, 7, 8, 9, 10, 11, 12, 13, 14, 15, 16, 17, 18]\n",
    "# y is in units of x10^-19  C\n",
    "y = [6.558, 8.206, 9.880, 11.5, 13.14, 14.81, 16.4, 18.04, 19.68, 21.32, 22.96, 24.6, 26.24, 27.88, 29.52]\n",
    "\n",
    "plt.plot(x,y, marker=\"*\")\n",
    "\n"
   ]
  },
  {
   "cell_type": "code",
   "execution_count": 3,
   "metadata": {},
   "outputs": [
    {
     "name": "stdout",
     "output_type": "stream",
     "text": [
      "Charge: 1.6383500000000033\n",
      "Error: 0.027083333333305617\n"
     ]
    }
   ],
   "source": [
    "# fit the data, the intercept point on the y axis is the fundamental charge estimate  \n",
    "\n",
    "sum_x = 0\n",
    "sum_x_sq = 0\n",
    "sum_y = 0\n",
    "sum_y_sq = 0\n",
    "\n",
    "i = 0\n",
    "while i < len(x):\n",
    "    sum_x = sum_x + x[i]\n",
    "    sum_x_sq = sum_x_sq + (x[i]*x[i])\n",
    "    sum_y = sum_y + y[i]\n",
    "    sum_y_sq = sum_y_sq + (y[i]*x[i])\n",
    "    i = i + 1\n",
    "    \n",
    "g = (sum_x*sum_x) - (sum_x_sq*len(x))\n",
    "error = (sum_x*sum_y_sq - sum_x_sq*sum_y)/g\n",
    "charge = (sum_x*sum_y - sum_y_sq*len(x))/g\n",
    "\n",
    "\n",
    "print(\"Charge:\", charge)\n",
    "print(\"Error:\", error)"
   ]
  },
  {
   "cell_type": "code",
   "execution_count": null,
   "metadata": {},
   "outputs": [],
   "source": []
  }
 ],
 "metadata": {
  "kernelspec": {
   "display_name": "Python 3",
   "language": "python",
   "name": "python3"
  },
  "language_info": {
   "codemirror_mode": {
    "name": "ipython",
    "version": 3
   },
   "file_extension": ".py",
   "mimetype": "text/x-python",
   "name": "python",
   "nbconvert_exporter": "python",
   "pygments_lexer": "ipython3",
   "version": "3.7.4"
  }
 },
 "nbformat": 4,
 "nbformat_minor": 4
}
