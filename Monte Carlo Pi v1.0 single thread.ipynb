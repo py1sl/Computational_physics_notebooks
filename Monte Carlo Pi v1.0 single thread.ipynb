{
 "cells": [
  {
   "cell_type": "markdown",
   "metadata": {},
   "source": [
    "# Monte Carlo calculation of Pi\n",
    "\n",
    "The classic introductory Monte Carlo problem, calculate Pi using random sampling of points inside a box of sidelength R in which a 1/4 circle of radius R fits.  The ratio of the number of points in the circle to the total number of points is related to Pi.\n",
    "\n",
    "Learning points:\n",
    "* Monte Carlo basics\n",
    "* Python basics - numpy, plotting"
   ]
  },
  {
   "cell_type": "code",
   "execution_count": 2,
   "metadata": {},
   "outputs": [],
   "source": [
    "import numpy as np\n",
    "import matplotlib.pyplot as plt\n",
    "\n",
    "def pi_est(N):\n",
    "\n",
    "    x_circle = []           #Creates a list to store x and y values in and out of the circle     \n",
    "    y_circle = []\n",
    "    x_square = []\n",
    "    y_square = []\n",
    "\n",
    "    M = 0\n",
    "    \n",
    "    for i in range(N):\n",
    "        x = np.random.uniform(0.0, 1.0)   #Generate a pair of coordinates between -1 and 1 from the uniform distribution \n",
    "        y = np.random.uniform(0.0, 1.0)\n",
    " \n",
    "        \n",
    "        # check if inside or outside of circle\n",
    "        if x**2 + y**2 <= 1:\n",
    "            M += 1  \n",
    "            x_circle.append(x)              \n",
    "            y_circle.append(y) \n",
    "        else:\n",
    "            x_square.append(x)             \n",
    "            y_square.append(y)             \n",
    "        \n",
    "    pi_calc = (M/N) * 4\n",
    "    return pi_calc, x_square, y_square, x_circle, y_circle\n",
    "    "
   ]
  },
  {
   "cell_type": "code",
   "execution_count": 3,
   "metadata": {},
   "outputs": [],
   "source": [
    "def plot_points(x_in, y_in, x_out, y_out):\n",
    "    \"\"\" plot of points in and out \"\"\"\n",
    "    plt.clf()  # this clears any existing plots\n",
    "    plt.scatter(x_in, y_in, c='b', marker='.')\n",
    "    plt.scatter(x_out, y_out, c='m', marker='.')\n",
    "    plt.show()\n",
    "    "
   ]
  },
  {
   "cell_type": "code",
   "execution_count": 4,
   "metadata": {},
   "outputs": [],
   "source": [
    "def plot_pi_n(n_val, pi_val):\n",
    "    \"\"\" plot pi as function of n\"\"\"\n",
    "    plt.clf() # this clears any existing plots\n",
    "    plt.plot(n_val, pi_val)\n",
    "    plt.axhline(y=np.pi, color='m')  # add horizontal line at pi\n",
    "    plt.ylabel(\"pi estimate\")\n",
    "    plt.xlabel(\"N samples\")\n",
    "    plt.show()"
   ]
  },
  {
   "cell_type": "code",
   "execution_count": 5,
   "metadata": {},
   "outputs": [
    {
     "name": "stdout",
     "output_type": "stream",
     "text": [
      "10 4.0\n",
      "10 2.8\n",
      "10 3.2\n",
      "10 3.6\n",
      "10 3.2\n",
      "100 3.24\n",
      "100 2.92\n",
      "100 2.76\n",
      "100 3.16\n",
      "100 3.12\n",
      "500 3.136\n",
      "500 3.192\n",
      "500 3.072\n",
      "500 3.04\n",
      "500 3.304\n",
      "1000 3.1\n",
      "1000 3.088\n",
      "1000 3.148\n",
      "1000 3.108\n",
      "1000 3.056\n",
      "10000 3.1072\n",
      "10000 3.1568\n",
      "10000 3.112\n",
      "10000 3.138\n",
      "10000 3.1272\n",
      "25000 3.12432\n",
      "25000 3.13456\n",
      "25000 3.13712\n",
      "25000 3.14144\n",
      "25000 3.12016\n",
      "50000 3.14656\n",
      "50000 3.14272\n",
      "50000 3.13152\n",
      "50000 3.14448\n",
      "50000 3.14488\n",
      "75000 3.1472\n",
      "75000 3.14128\n",
      "75000 3.14768\n",
      "75000 3.1430933333333333\n",
      "75000 3.1333866666666665\n",
      "100000 3.13752\n",
      "100000 3.14304\n",
      "100000 3.138\n",
      "100000 3.14308\n",
      "100000 3.14132\n"
     ]
    },
    {
     "data": {
      "image/png": "[encoded data removed]",
      "text/plain": [
       "<Figure size 432x288 with 1 Axes>"
      ]
     },
     "metadata": {
      "needs_background": "light"
     },
     "output_type": "display_data"
    }
   ],
   "source": [
    "N_points=(10, 100, 500, 1000, 10000, 25000, 50000, 75000, 100000) # tuple\n",
    "pi_mean_vals = [] # list\n",
    "standard_deviation = []\n",
    "n_times = 5\n",
    "\n",
    "for n in N_points:\n",
    "    i = 0\n",
    "    estimates = []\n",
    "    while i < n_times:\n",
    "        pi_val, x_in, y_in, x_out, y_out = pi_est(n)\n",
    "        print(n, pi_val)\n",
    "        estimates.append(pi_val)\n",
    "        i = i + 1\n",
    "    mean = np.mean(estimates)\n",
    "    pi_mean_vals.append(mean)\n",
    "    sd = np.std(estimates)\n",
    "    standard_deviation.append(sd)\n",
    "    \n",
    "    \n",
    "\n",
    "\n",
    "plot_pi_n(N_points, pi_mean_vals)"
   ]
  },
  {
   "cell_type": "code",
   "execution_count": null,
   "metadata": {},
   "outputs": [],
   "source": []
  },
  {
   "cell_type": "code",
   "execution_count": null,
   "metadata": {},
   "outputs": [],
   "source": []
  }
 ],
 "metadata": {
  "kernelspec": {
   "display_name": "Python 3",
   "language": "python",
   "name": "python3"
  },
  "language_info": {
   "codemirror_mode": {
    "name": "ipython",
    "version": 3
   },
   "file_extension": ".py",
   "mimetype": "text/x-python",
   "name": "python",
   "nbconvert_exporter": "python",
   "pygments_lexer": "ipython3",
   "version": "3.7.4"
  }
 },
 "nbformat": 4,
 "nbformat_minor": 4
}
