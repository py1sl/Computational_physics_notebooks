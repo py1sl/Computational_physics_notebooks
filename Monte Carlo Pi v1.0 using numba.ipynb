{
 "cells": [
  {
   "cell_type": "markdown",
   "metadata": {},
   "source": [
    "# Monte Carlo calculation of Pi\n",
    "\n",
    "The classic introductory Monte Carlo problem, calculate Pi using random sampling of points inside a box of sidelength R in which a 1/4 circle of radius R fits.  The ratio of the number of points in the circle to the total number of points is related to Pi.\n",
    "\n",
    "Learning points:\n",
    "* Monte Carlo basics\n",
    "* Python basics - numpy, plotting\n",
    "* using Numba"
   ]
  },
  {
   "cell_type": "code",
   "execution_count": 4,
   "metadata": {},
   "outputs": [],
   "source": [
    "import numpy as np\n",
    "import matplotlib.pyplot as plt\n",
    "from numba import jit"
   ]
  },
  {
   "cell_type": "markdown",
   "metadata": {},
   "source": [
    "The @jit decorator in its simplest form means numba will compile the function at runtime and produce a much faster result compared to normal python"
   ]
  },
  {
   "cell_type": "code",
   "execution_count": 10,
   "metadata": {},
   "outputs": [],
   "source": [
    "\n",
    "@jit\n",
    "def pi_est(N):\n",
    "\n",
    "    x_circle = []           #Creates a list to store x and y values in and out of the circle     \n",
    "    y_circle = []\n",
    "    x_square = []\n",
    "    y_square = []\n",
    "\n",
    "    M = 0\n",
    "    \n",
    "    for i in range(N):\n",
    "        x = np.random.uniform(0.0, 1.0)   #Generate a pair of coordinates between -1 and 1 from the uniform distribution \n",
    "        y = np.random.uniform(0.0, 1.0)\n",
    " \n",
    "        \n",
    "        # check if inside or outside of circle\n",
    "        if x**2 + y**2 <= 1:\n",
    "            M += 1  \n",
    "            x_circle.append(x)              \n",
    "            y_circle.append(y) \n",
    "        else:\n",
    "            x_square.append(x)             \n",
    "            y_square.append(y)             \n",
    "        \n",
    "    pi_calc = (M/N) * 4\n",
    "    return pi_calc, x_square, y_square, x_circle, y_circle\n",
    "    "
   ]
  },
  {
   "cell_type": "code",
   "execution_count": 11,
   "metadata": {},
   "outputs": [],
   "source": [
    "def plot_points(x_in, y_in, x_out, y_out):\n",
    "    \"\"\" plot of points in and out \"\"\"\n",
    "    plt.clf()  # this clears any existing plots\n",
    "    plt.scatter(x_in, y_in, c='b', marker='.')\n",
    "    plt.scatter(x_out, y_out, c='m', marker='.')\n",
    "    plt.show()\n",
    "    "
   ]
  },
  {
   "cell_type": "code",
   "execution_count": 12,
   "metadata": {},
   "outputs": [],
   "source": [
    "def plot_pi_n(n_val, pi_val):\n",
    "    \"\"\" plot pi as function of n\"\"\"\n",
    "    plt.clf() # this clears any existing plots\n",
    "    plt.plot(n_val, pi_val)\n",
    "    plt.axhline(y=np.pi, color='m')  # add horizontal line at pi\n",
    "    plt.ylabel(\"pi estimate\")\n",
    "    plt.xlabel(\"N samples\")\n",
    "    plt.show()"
   ]
  },
  {
   "cell_type": "code",
   "execution_count": 13,
   "metadata": {},
   "outputs": [
    {
     "name": "stdout",
     "output_type": "stream",
     "text": [
      "10 2.8\n",
      "10 3.6\n",
      "10 3.2\n",
      "10 2.8\n",
      "10 4.0\n",
      "100 3.0\n",
      "100 3.32\n",
      "100 3.36\n",
      "100 3.16\n",
      "100 3.36\n",
      "500 3.216\n",
      "500 3.256\n",
      "500 3.192\n",
      "500 3.224\n",
      "500 3.064\n",
      "1000 3.124\n",
      "1000 3.068\n",
      "1000 3.124\n",
      "1000 3.12\n",
      "1000 3.184\n",
      "10000 3.124\n",
      "10000 3.1604\n",
      "10000 3.1424\n",
      "10000 3.122\n",
      "10000 3.1392\n",
      "25000 3.14656\n",
      "25000 3.11072\n",
      "25000 3.14112\n",
      "25000 3.14016\n",
      "25000 3.15104\n",
      "50000 3.13064\n",
      "50000 3.14656\n",
      "50000 3.13976\n",
      "50000 3.14288\n",
      "50000 3.15288\n",
      "75000 3.12704\n",
      "75000 3.1432\n",
      "75000 3.1409066666666665\n",
      "75000 3.14336\n",
      "75000 3.149173333333333\n",
      "100000 3.14144\n",
      "100000 3.14144\n",
      "100000 3.1442\n",
      "100000 3.13784\n",
      "100000 3.14088\n",
      "10000000 3.1422324\n",
      "10000000 3.1419324\n",
      "10000000 3.1411524\n",
      "10000000 3.140658\n",
      "10000000 3.1402152\n"
     ]
    },
    {
     "data": {
      "image/png": "[encoded data removed]",
      "text/plain": [
       "<Figure size 432x288 with 1 Axes>"
      ]
     },
     "metadata": {
      "needs_background": "light"
     },
     "output_type": "display_data"
    }
   ],
   "source": [
    "N_points=(10, 100, 500, 1000, 10000, 25000, 50000, 75000, 100000, 10000000) # tuple\n",
    "pi_mean_vals = [] # list\n",
    "standard_deviation = []\n",
    "n_times = 5\n",
    "\n",
    "for n in N_points:\n",
    "    i = 0\n",
    "    estimates = []\n",
    "    while i < n_times:\n",
    "        pi_val, x_in, y_in, x_out, y_out = pi_est(n)\n",
    "        print(n, pi_val)\n",
    "        estimates.append(pi_val)\n",
    "        i = i + 1\n",
    "    mean = np.mean(estimates)\n",
    "    pi_mean_vals.append(mean)\n",
    "    sd = np.std(estimates)\n",
    "    standard_deviation.append(sd)\n",
    "    \n",
    "    \n",
    "\n",
    "\n",
    "plot_pi_n(N_points, pi_mean_vals)"
   ]
  },
  {
   "cell_type": "code",
   "execution_count": null,
   "metadata": {},
   "outputs": [],
   "source": []
  },
  {
   "cell_type": "code",
   "execution_count": null,
   "metadata": {},
   "outputs": [],
   "source": []
  }
 ],
 "metadata": {
  "kernelspec": {
   "display_name": "Python 3",
   "language": "python",
   "name": "python3"
  },
  "language_info": {
   "codemirror_mode": {
    "name": "ipython",
    "version": 3
   },
   "file_extension": ".py",
   "mimetype": "text/x-python",
   "name": "python",
   "nbconvert_exporter": "python",
   "pygments_lexer": "ipython3",
   "version": "3.7.4"
  }
 },
 "nbformat": 4,
 "nbformat_minor": 4
}
