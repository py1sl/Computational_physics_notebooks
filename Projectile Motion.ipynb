{
 "cells": [
  {
   "cell_type": "markdown",
   "metadata": {},
   "source": [
    "## Projectile motion  \n",
    "\n",
    "two methods used, once explicitly performing the loop, and once using numpy arrays\n",
    "\n",
    "learning:\n",
    "*  python\n",
    "*  discretisation\n",
    "*  classical mechanics / laws of motion"
   ]
  },
  {
   "cell_type": "code",
   "execution_count": 1,
   "metadata": {},
   "outputs": [],
   "source": [
    "import numpy as np\n",
    "import matplotlib.pyplot as plt\n"
   ]
  },
  {
   "cell_type": "code",
   "execution_count": 2,
   "metadata": {},
   "outputs": [],
   "source": [
    "# equations of motion\n",
    "\n",
    "def x_pos(u, t, theta):\n",
    "    x = u * t * np.cos(theta)\n",
    "    return (x)\n",
    "\n",
    "def y_pos(u, t, theta, g, y0):\n",
    "    y = u * t * np.sin(theta) - (0.5 * g * t**2) + y0\n",
    "    return (y)"
   ]
  },
  {
   "cell_type": "code",
   "execution_count": 10,
   "metadata": {},
   "outputs": [],
   "source": [
    "#  input data\n",
    "\n",
    "g = 9.81                     # gravity acceleration ms-2\n",
    "theta = 20                    # angle in degrees\n",
    "theta = theta * (np.pi/180)  # convert to radians\n",
    "v0 = 2190                      # initial velocity  ms-1 in the direction of theta\n",
    "n = 300                      # number of time steps\n",
    "dt = (1/50.0)/100                    # time step width\n",
    "y0 = 0                       # initial height\n",
    "\n"
   ]
  },
  {
   "cell_type": "code",
   "execution_count": 11,
   "metadata": {},
   "outputs": [],
   "source": [
    "## method number 1  - a loop  - explicitly shows what is happening\n",
    "\n",
    "\n",
    "time = []  # time\n",
    "x = []    # x co-ordinate\n",
    "y = []    # y co-ordinates\n",
    "vel_x = [] # velocity in x direction\n",
    "vel_y = [] # velocity in y direction\n",
    "\n",
    "\n",
    "i = 0\n",
    "while i < n:         # break into time steps\n",
    "    t = i * dt       # set new time\n",
    "    time.append(t)\n",
    "    \n",
    "    x_val = x_pos(v0, t, theta)   # calculate new x \n",
    "    x.append(x_val)\n",
    "    \n",
    "    y_val = y_pos(v0, t, theta, g, y0)   # calculate new y\n",
    "    y.append(y_val)\n",
    "    \n",
    "    i = i + 1\n"
   ]
  },
  {
   "cell_type": "code",
   "execution_count": 12,
   "metadata": {},
   "outputs": [],
   "source": [
    "# method 2 - np arrays - neat concise\n",
    "\n",
    "# also use the value of the widget to set the velocity\n",
    "v0 = 500\n",
    "time = np.linspace(0, n*dt, n)\n",
    "x2 = x_pos(v0, time, theta)\n",
    "y2 = y_pos(v0, time, theta, g, y0)"
   ]
  },
  {
   "cell_type": "code",
   "execution_count": 9,
   "metadata": {},
   "outputs": [
    {
     "data": {
      "text/plain": [
       "[<matplotlib.lines.Line2D at 0x2227c8f1248>]"
      ]
     },
     "execution_count": 9,
     "metadata": {},
     "output_type": "execute_result"
    },
    {
     "data": {
      "image/png": "[encoded data removed]",
      "text/plain": [
       "<Figure size 432x288 with 1 Axes>"
      ]
     },
     "metadata": {
      "needs_background": "light"
     },
     "output_type": "display_data"
    }
   ],
   "source": [
    "plt.plot(x, y)\n",
    "plt.plot(x2, y2)"
   ]
  },
  {
   "cell_type": "code",
   "execution_count": null,
   "metadata": {},
   "outputs": [],
   "source": []
  }
 ],
 "metadata": {
  "kernelspec": {
   "display_name": "Python 3",
   "language": "python",
   "name": "python3"
  },
  "language_info": {
   "codemirror_mode": {
    "name": "ipython",
    "version": 3
   },
   "file_extension": ".py",
   "mimetype": "text/x-python",
   "name": "python",
   "nbconvert_exporter": "python",
   "pygments_lexer": "ipython3",
   "version": "3.7.4"
  }
 },
 "nbformat": 4,
 "nbformat_minor": 4
}
