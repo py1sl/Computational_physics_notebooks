{
 "cells": [
  {
   "cell_type": "markdown",
   "metadata": {},
   "source": [
    "## Calculation of activity after a given time based on an initial activity\n",
    "\n",
    "A calculation of the amount of radioactivity left in a sample of a specified nuclide after a time.  \n",
    "The data for a small sample set of nuclides is read from a csv file, it has 3 columns nuclide, halflife and unit.  Unit is the time unit for the halflife specified, s = seconds, d = days etc\n",
    "\n",
    "uses the classic radioactive decay equation  \n",
    "$$\n",
    "A(t) = A_0e^{(-\\lambda t)}\n",
    "$$\n",
    "\n",
    "\n",
    "Learning objectives:\n",
    "* reading csv file manually\n",
    "* reading csv file using pandas\n",
    "* dealing with messy data, in this case the time units\n",
    "* filtering and using pandas\n",
    "* lists of lists\n",
    "* handling of arrays as well as single values"
   ]
  },
  {
   "cell_type": "code",
   "execution_count": 4,
   "metadata": {},
   "outputs": [],
   "source": [
    "# import numpy, pandas and matplot lib\n",
    "import numpy as np\n",
    "import matplotlib.pyplot as plt\n",
    "import pandas as pd"
   ]
  },
  {
   "cell_type": "code",
   "execution_count": 5,
   "metadata": {},
   "outputs": [],
   "source": [
    "# file reading\n",
    "\n",
    "# firstly a manual core python approach\n",
    "def read_data_file(fpath):\n",
    "    \"\"\" reads a file manually \"\"\" \n",
    "    data = []\n",
    "    with open(fpath) as f:\n",
    "        data = [line.split(', ') for line in f.read().splitlines()]\n",
    "    f.close()\n",
    "    return data\n",
    "\n",
    "# alternatively using pandas\n",
    "def read_data_file_pandas(fpath):\n",
    "    \"\"\" read the file using the built in pandas methods \"\"\"\n",
    "    data = pd.read_csv(fpath, sep = \", \")\n",
    "    return data"
   ]
  },
  {
   "cell_type": "code",
   "execution_count": 6,
   "metadata": {},
   "outputs": [],
   "source": [
    "# timing functions\n",
    "def years_to_seconds(y):\n",
    "    \"\"\" converts years to seconds\"\"\"\n",
    "    s = y * 365 * 24 * 60 * 60\n",
    "    return s\n",
    "\n",
    "def days_to_seconds(d):\n",
    "    \"\"\" converts days to seconds \"\"\"\n",
    "    s = d * 24 * 60 * 60\n",
    "    return s\n",
    "\n",
    "def hours_to_seconds(h):\n",
    "    \"\"\" converts hours to seconds\"\"\"\n",
    "    s = h * 60 * 60\n",
    "    return s\n",
    "\n",
    "def mins_to_seconds(m):\n",
    "    \"\"\" converts minutes to seconds \"\"\"\n",
    "    s = m * 60\n",
    "    return s\n",
    "\n",
    "def convert_time(t, unit):\n",
    "    \"\"\" entrance function for conversion of time to seconds \"\"\"\n",
    "    \n",
    "    if unit == \"s\":\n",
    "        return t\n",
    "    elif unit == \"m\":\n",
    "        return mins_to_seconds(t)\n",
    "    elif unit == \"h\":\n",
    "        return hours_to_seconds(t)\n",
    "    elif unit == \"d\":\n",
    "        return days_to_seconds(t)\n",
    "    elif unit == \"y\":\n",
    "        return years_to_seconds(t)\n",
    "    else:\n",
    "        print(\"time unit not recognised\")\n",
    "        return 0\n"
   ]
  },
  {
   "cell_type": "code",
   "execution_count": 7,
   "metadata": {},
   "outputs": [],
   "source": [
    "# act calc\n",
    "\n",
    "def calc_act(hl, unit, act_zero, time):\n",
    "    \"\"\" does the actual activity calculation common for any data \"\"\"\n",
    "     # need to convert halflife to seconds\n",
    "    hl = convert_time(hl, unit)\n",
    "    \n",
    "    lam = np.log(2)/float(hl)  # cast to float here just in case but probably not needed\n",
    "    \n",
    "    act = act_zero * np.exp(-1*lam*time)\n",
    "    return act\n",
    "    \n",
    "\n",
    "def calc_act_list(nuc, act_zero, time, data):\n",
    "    \"\"\" calculate activity using list data\"\"\"\n",
    "    \n",
    "    # get the specific nuclide data\n",
    "    for n in data:\n",
    "        if nuc in n:\n",
    "            hl = float(n[1])   # this float is needed as it reads it as a string\n",
    "            unit = n[2]\n",
    "    \n",
    "    act = calc_act(hl, unit, act_zero, time)\n",
    "    return act\n",
    "\n",
    "\n",
    "def calc_act_pandas(nuc, act_zero, time, data):\n",
    "    \"\"\"  calculate activity using pandas data\"\"\"\n",
    "    \n",
    "    # get the nuclide specific data\n",
    "    nuc_data = data.loc[data['nuclide'] == nuc]\n",
    "    hl = nuc_data.iloc[0]['halflife']\n",
    "    unit = nuc_data.iloc[0]['unit']\n",
    "\n",
    "    act = calc_act(hl, unit, act_zero, time)\n",
    "    return act"
   ]
  },
  {
   "cell_type": "code",
   "execution_count": 10,
   "metadata": {},
   "outputs": [
    {
     "name": "stdout",
     "output_type": "stream",
     "text": [
      "list 436651463.1956695\n",
      "Pandas 436651463.1956695\n"
     ]
    },
    {
     "name": "stderr",
     "output_type": "stream",
     "text": [
      "C:\\anaconda\\lib\\site-packages\\ipykernel_launcher.py:15: ParserWarning: Falling back to the 'python' engine because the 'c' engine does not support regex separators (separators > 1 char and different from '\\s+' are interpreted as regex); you can avoid this warning by specifying engine='python'.\n",
      "  from ipykernel import kernelapp as app\n"
     ]
    }
   ],
   "source": [
    "# enter the initial data\n",
    "ini_act = 1e9\n",
    "decay_time = 6.3 * 365 * 24 * 60 * 60  # this should be in seconds\n",
    "filepath = \"half_lives.txt\"\n",
    "nuclide = \"Co60\"\n",
    "\n",
    "# first using the list version of the reader \n",
    "data = read_data_file(filepath)\n",
    "act = calc_act_list(nuclide, ini_act, decay_time, data)\n",
    "print(\"list\", act)\n",
    "\n",
    "# now in pandas\n",
    "data = read_data_file_pandas(filepath)\n",
    "act = calc_act_pandas(nuclide, ini_act, decay_time, data)\n",
    "print(\"Pandas\", act)"
   ]
  },
  {
   "cell_type": "code",
   "execution_count": 9,
   "metadata": {},
   "outputs": [
    {
     "data": {
      "text/plain": [
       "<matplotlib.legend.Legend at 0x1c0448fea48>"
      ]
     },
     "execution_count": 9,
     "metadata": {},
     "output_type": "execute_result"
    },
    {
     "data": {
      "image/png": "[encoded data removed]",
      "text/plain": [
       "<Figure size 432x288 with 1 Axes>"
      ]
     },
     "metadata": {
      "needs_background": "light"
     },
     "output_type": "display_data"
    }
   ],
   "source": [
    "# now show how python will pass lists/arrays without a need to change the code\n",
    "t = np.linspace(1,100) # time in years from 1 to 100 years\n",
    "decay_time = t * 365 * 24 * 60 * 60 # convert to seconds  \n",
    "act = calc_act_pandas(nuclide, ini_act, decay_time, data)\n",
    "\n",
    "\n",
    "# plot \n",
    "plt.plot(t, act, label=nuclide)\n",
    "plt.ylabel(\"Activity (Bq)\")\n",
    "plt.xlabel(\"Time (years)\")\n",
    "plt.legend()\n",
    "\n"
   ]
  },
  {
   "cell_type": "code",
   "execution_count": null,
   "metadata": {},
   "outputs": [],
   "source": []
  }
 ],
 "metadata": {
  "kernelspec": {
   "display_name": "Python 3",
   "language": "python",
   "name": "python3"
  },
  "language_info": {
   "codemirror_mode": {
    "name": "ipython",
    "version": 3
   },
   "file_extension": ".py",
   "mimetype": "text/x-python",
   "name": "python",
   "nbconvert_exporter": "python",
   "pygments_lexer": "ipython3",
   "version": "3.7.4"
  }
 },
 "nbformat": 4,
 "nbformat_minor": 4
}
